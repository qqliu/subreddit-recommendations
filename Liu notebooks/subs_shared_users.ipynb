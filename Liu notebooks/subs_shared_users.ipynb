{
 "cells": [
  {
   "cell_type": "code",
   "execution_count": 1,
   "metadata": {
    "collapsed": true
   },
   "outputs": [],
   "source": [
    "import csv\n",
    "import psycopg2\n",
    "import psycopg2.extras\n",
    "import os\n",
    "import pickle\n",
    "\n",
    "conn = psycopg2.connect(host='localhost', user='user', password='hidden', dbname='postgres')\n"
   ]
  },
  {
   "cell_type": "code",
   "execution_count": 2,
   "metadata": {
    "collapsed": false
   },
   "outputs": [],
   "source": [
    "sql = \"\"\"\n",
    "SELECT subreddit FROM subreddit_subset \n",
    "WHERE subreddit not in\n",
    "(SELECT sub_a FROM shared_users \n",
    "group by sub_a)\n",
    "\"\"\"\n",
    "cur = conn.cursor(cursor_factory=psycopg2.extras.DictCursor)\n",
    "cur.execute(sql)\n",
    "subreddits = cur.fetchall()\n",
    "cur.close()\n"
   ]
  },
  {
   "cell_type": "code",
   "execution_count": 3,
   "metadata": {
    "collapsed": false
   },
   "outputs": [
    {
     "name": "stdout",
     "output_type": "stream",
     "text": [
      "187\n"
     ]
    }
   ],
   "source": [
    "print len(subreddits)\n"
   ]
  },
  {
   "cell_type": "code",
   "execution_count": 4,
   "metadata": {
    "collapsed": true
   },
   "outputs": [
    {
     "name": "stdout",
     "output_type": "stream",
     "text": [
      "0 FuturologyRemovals\n",
      "10 CammeronAdvLog\n",
      "20 ecr_plus_automodtest\n",
      "30 ArtefactFans\n",
      "40 Gone2theSnowDog\n",
      "50 ReverseWorldPowers\n",
      "60 lookingatbread\n",
      "70 cookingtonight\n",
      "80 HouseFans\n",
      "90 ToolFans\n",
      "100 MFPallytimeReddit\n",
      "110 SummerFans\n",
      "120 SomePeopleAreRats\n",
      "130 FireFans\n",
      "140 FutureFans\n",
      "150 ventic\n",
      "160 InstrumentFans\n",
      "170 SteamFans\n",
      "180 blog5366\n"
     ]
    }
   ],
   "source": [
    "#ratingsTable = []\n",
    "\n",
    "\n",
    "\n",
    "for i,itemA in enumerate(subreddits):\n",
    "    cur = conn.cursor(cursor_factory=psycopg2.extras.DictCursor)\n",
    "    subA = itemA[0]\n",
    "    if i%10 == 0:\n",
    "        print i,subA\n",
    "\n",
    "    sql = \"\"\"\n",
    "    INSERT into shared_users (sub_a, sub_b, shared_users)\n",
    "    (\n",
    "    SELECT a.subreddit as sub_a, b.subreddit as sub_b, count(*) as shared_users FROM\n",
    "        (select author, subreddit from num_comments_posts2 where subreddit = '{}') as a\n",
    "        INNER JOIN \n",
    "        (select author, subreddit from num_comments_posts2 ) as b\n",
    "        ON a.author = b.author\n",
    "        group by a.subreddit, b.subreddit)\n",
    "    \"\"\".format(subA)\n",
    "\n",
    "    cur.execute(sql)\n",
    "    conn.commit()\n",
    "    cur.close()\n",
    "                           \n",
    "        "
   ]
  },
  {
   "cell_type": "code",
   "execution_count": null,
   "metadata": {
    "collapsed": false
   },
   "outputs": [],
   "source": [
    "cur.close()\n",
    "conn.close()"
   ]
  }
 ],
 "metadata": {
  "kernelspec": {
   "display_name": "Python 2",
   "language": "python",
   "name": "python2"
  },
  "language_info": {
   "codemirror_mode": {
    "name": "ipython",
    "version": 2
   },
   "file_extension": ".py",
   "mimetype": "text/x-python",
   "name": "python",
   "nbconvert_exporter": "python",
   "pygments_lexer": "ipython2",
   "version": "2.7.12"
  }
 },
 "nbformat": 4,
 "nbformat_minor": 0
}
