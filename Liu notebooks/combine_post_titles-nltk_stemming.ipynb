{
 "cells": [
  {
   "cell_type": "code",
   "execution_count": null,
   "metadata": {
    "collapsed": true
   },
   "outputs": [],
   "source": [
    "import csv\n",
    "import re\n",
    "import nltk\n",
    "from nltk import word_tokenize\n",
    "from nltk.corpus import stopwords\n",
    "from nltk.stem.porter import PorterStemmer\n",
    "from nltk.tokenize import WordPunctTokenizer\n",
    "from sklearn.feature_extraction.text import TfidfVectorizer\n",
    "import pickle\n",
    "import numpy as np"
   ]
  },
  {
   "cell_type": "code",
   "execution_count": null,
   "metadata": {
    "collapsed": false
   },
   "outputs": [],
   "source": [
    "#nltk.download(\"stopwords\")\n",
    "import psycopg2\n",
    "import psycopg2.extras\n",
    "import os\n",
    "\n",
    "conn = psycopg2.connect(host='localhost', user='user', password='hidden', dbname='postgres')\n",
    "\n",
    "sql = \"\"\"\n",
    "SELECT subreddit FROM subreddit_subset_small \n",
    "\"\"\"\n",
    "cur = conn.cursor(cursor_factory=psycopg2.extras.DictCursor)\n",
    "cur.execute(sql)\n",
    "subreddit_subset = cur.fetchall()\n",
    "cur.close()\n",
    "conn.close()"
   ]
  },
  {
   "cell_type": "code",
   "execution_count": null,
   "metadata": {
    "collapsed": true
   },
   "outputs": [],
   "source": [
    "def cleanDoc(doc):\n",
    "    stopset = set(stopwords.words('english'))\n",
    "    stemmer = nltk.PorterStemmer()\n",
    "    doc = re.sub(r'\\W',' ',doc)\n",
    "    tokens = WordPunctTokenizer().tokenize(doc)\n",
    "    clean = [token.lower() for token in tokens if token.lower() not in stopset and len(token) > 2]\n",
    "    final = [stemmer.stem(word) for word in clean]\n",
    "    return final"
   ]
  },
  {
   "cell_type": "code",
   "execution_count": null,
   "metadata": {
    "collapsed": false
   },
   "outputs": [],
   "source": [
    "#subreddits = pickle.load(open('post_titles_clean.p','rb'))\n",
    "sub_subset_list = []\n",
    "for item in subreddit_subset:\n",
    "    sub_subset_list.append(item[0])\n"
   ]
  },
  {
   "cell_type": "code",
   "execution_count": null,
   "metadata": {
    "collapsed": false
   },
   "outputs": [],
   "source": [
    "print len(subreddit_subset)"
   ]
  },
  {
   "cell_type": "code",
   "execution_count": null,
   "metadata": {
    "collapsed": false,
    "scrolled": false
   },
   "outputs": [],
   "source": [
    "subreddits = {}\n",
    "\n",
    "with open('post_titles.csv', 'rb') as csvfile:\n",
    "    reader = csv.reader(csvfile, delimiter=',', quotechar='|')\n",
    "\n",
    "    for row in reader:\n",
    "        subreddit, title = row\n",
    "        if subreddit in subreddit_subset:\n",
    "            if subreddit not in subreddits.keys():\n",
    "                cleanTitle = cleanDoc(title)\n",
    "                #print(subreddit, title, cleanTitle)\n",
    "                subreddits[subreddit] = cleanTitle#re.sub(r'\\W',' ',title)\n",
    "            else:\n",
    "                cleanTitle = cleanDoc(title)\n",
    "                #print('plus',subreddit, title, cleanTitle, subreddits[subreddit])\n",
    "                templist = subreddits[subreddit]\n",
    "                #print templist\n",
    "                templist.extend(cleanTitle)\n",
    "                subreddits[subreddit] = templist #re.sub(r'\\W',' ',title)"
   ]
  },
  {
   "cell_type": "code",
   "execution_count": null,
   "metadata": {
    "collapsed": false
   },
   "outputs": [],
   "source": [
    "subreddits = pickle.load(open('post_titles_clean.p','rb'))"
   ]
  },
  {
   "cell_type": "code",
   "execution_count": null,
   "metadata": {
    "collapsed": false
   },
   "outputs": [],
   "source": [
    "post_titles = []\n",
    "for sub, titles in subreddits.iteritems():\n",
    "    if sub in sub_subset_list:\n",
    "        #print sub\n",
    "        titles_str = ' '.join(titles)\n",
    "        post_titles.append(titles_str)\n",
    "        \n",
    "#with open('post_titles_combined.csv', 'wb') as wfile:\n",
    "#    writer = csv.writer(wfile)\n",
    "#    writer.writerows(post_titles)"
   ]
  },
  {
   "cell_type": "code",
   "execution_count": null,
   "metadata": {
    "collapsed": false
   },
   "outputs": [],
   "source": [
    "sklearn_tfidf = TfidfVectorizer(norm='l2',min_df=0, use_idf=True, smooth_idf=False, sublinear_tf=True)#, stop_words = 'english')\n",
    "sklearn_representation = sklearn_tfidf.fit_transform(post_titles)"
   ]
  },
  {
   "cell_type": "code",
   "execution_count": null,
   "metadata": {
    "collapsed": false,
    "scrolled": true
   },
   "outputs": [],
   "source": [
    "pairwise_similarity = sklearn_representation * sklearn_representation.T"
   ]
  },
  {
   "cell_type": "code",
   "execution_count": null,
   "metadata": {
    "collapsed": false
   },
   "outputs": [],
   "source": [
    "data = pairwise_similarity.data # similarity\n",
    "indices = pairwise_similarity.indices # sub2\n",
    "indptr = pairwise_similarity.indptr"
   ]
  },
  {
   "cell_type": "code",
   "execution_count": null,
   "metadata": {
    "collapsed": false
   },
   "outputs": [],
   "source": [
    "subs_indices = []\n",
    "for i, ptr in enumerate(indptr):\n",
    "    if i != len(indptr):\n",
    "        nextptr = indptr[i+1]\n",
    "    #print i, ptr, nextptr\n",
    "    for j in range(ptr,nextptr):\n",
    "        subs_indices.append(i)\n",
    "len(subs_indices)"
   ]
  },
  {
   "cell_type": "code",
   "execution_count": null,
   "metadata": {
    "collapsed": false
   },
   "outputs": [],
   "source": [
    "print len(data)\n",
    "print len(subs_indices)"
   ]
  },
  {
   "cell_type": "code",
   "execution_count": null,
   "metadata": {
    "collapsed": false,
    "scrolled": true
   },
   "outputs": [],
   "source": [
    "csv_filename = 'post_titles_subset_pairwise-small.csv'\n",
    "with open(csv_filename, 'wb') as wfile:\n",
    "    writer = csv.writer(wfile)\n",
    "    for i in range(len(data)): \n",
    "        row = [subs_indices[i],indices[i],data[i]]\n",
    "        writer.writerow(row)"
   ]
  },
  {
   "cell_type": "code",
   "execution_count": null,
   "metadata": {
    "collapsed": true
   },
   "outputs": [],
   "source": [
    "#to get actual subreddit names use number from sub.csv, match with subreddits.keys()\n",
    "#to get actual words, use index match with sklearn_representation.get_feature_names()\n",
    "#np.savetxt('post_titles_subs.csv', thing)\n",
    "feature_names = sklearn_tfidf.get_feature_names()\n",
    "subs = subreddits.keys()\n",
    "\n",
    "with open('post_titles_subset_sklearn_representation.p', 'wb') as wfile:\n",
    "    pickle.dump(sklearn_representation,wfile)\n",
    "\n",
    "with open('post_titles_subset_features_keys', 'wb') as wfile:\n",
    "    writer = csv.writer(wfile)\n",
    "    writer.writerows(feature_names)\n",
    "\n",
    "with open('post_titles_subset_sub_names', 'wb') as wfile:\n",
    "    writer = csv.writer(wfile)\n",
    "    writer.writerows(subs)\n"
   ]
  }
 ],
 "metadata": {
  "kernelspec": {
   "display_name": "Python 2",
   "language": "python",
   "name": "python2"
  },
  "language_info": {
   "codemirror_mode": {
    "name": "ipython",
    "version": 2
   },
   "file_extension": ".py",
   "mimetype": "text/x-python",
   "name": "python",
   "nbconvert_exporter": "python",
   "pygments_lexer": "ipython2",
   "version": "2.7.12"
  }
 },
 "nbformat": 4,
 "nbformat_minor": 0
}
