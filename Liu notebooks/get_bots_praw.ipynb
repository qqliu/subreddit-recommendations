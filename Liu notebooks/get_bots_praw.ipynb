{
 "cells": [
  {
   "cell_type": "code",
   "execution_count": null,
   "metadata": {
    "collapsed": true
   },
   "outputs": [],
   "source": [
    "import praw\n",
    "def get_bots_list():\n",
    "    r = praw.Reddit(user_agent='Create bots list')\n",
    "    sr = r.get_subreddit('BotWatchman')\n",
    "    bots_set = set()\n",
    "    bots_types = ['flair:mod', 'flair:banned','flair:data', 'flair:service', 'flair:tip', 'flair:single' ]\n",
    "\n",
    "    for t in bots_types:\n",
    "        bots_set |= {get_bot_name(c) for c in sr.search(t, limit=500)}\n",
    "    return bots_set\n",
    "\n",
    "\n",
    "def get_bot_name(c):\n",
    "    n = c.title.split(\" \")[-1].replace(\"/u/\",\"\").strip()\n",
    "    if 'www.reddit.com/user/' in n:\n",
    "        n = n.split(\"/user/\")[-1].replace(\"/\",\"\")\n",
    "    return n"
   ]
  },
  {
   "cell_type": "code",
   "execution_count": null,
   "metadata": {
    "collapsed": false
   },
   "outputs": [],
   "source": [
    "bots_list = get_bots_list()"
   ]
  },
  {
   "cell_type": "code",
   "execution_count": null,
   "metadata": {
    "collapsed": false,
    "scrolled": true
   },
   "outputs": [],
   "source": [
    "print bots_list"
   ]
  },
  {
   "cell_type": "code",
   "execution_count": null,
   "metadata": {
    "collapsed": true
   },
   "outputs": [],
   "source": []
  }
 ],
 "metadata": {
  "kernelspec": {
   "display_name": "Python 2",
   "language": "python",
   "name": "python2"
  },
  "language_info": {
   "codemirror_mode": {
    "name": "ipython",
    "version": 2
   },
   "file_extension": ".py",
   "mimetype": "text/x-python",
   "name": "python",
   "nbconvert_exporter": "python",
   "pygments_lexer": "ipython2",
   "version": "2.7.12"
  }
 },
 "nbformat": 4,
 "nbformat_minor": 0
}
